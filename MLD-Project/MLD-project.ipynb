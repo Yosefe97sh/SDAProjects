{
 "cells": [
  {
   "cell_type": "code",
   "execution_count": 1,
   "metadata": {},
   "outputs": [],
   "source": [
    "import pandas as pd\n",
    "import numpy as np\n",
    "import matplotlib.pyplot as plt\n",
    "import seaborn as sns\n",
    "\n",
    "pd.set_option('display.max_columns', None)\n",
    "pd.set_option('display.width', None)\n",
    "\n",
    "plt.rcParams[\"figure.figsize\"] = (7,4)\n",
    "import warnings\n",
    "warnings.filterwarnings(\"ignore\")\n",
    "warnings.warn(\"this will not show\")"
   ]
  },
  {
   "cell_type": "markdown",
   "metadata": {},
   "source": [
    "Upload the dataset and EDA"
   ]
  },
  {
   "cell_type": "code",
   "execution_count": 2,
   "metadata": {},
   "outputs": [],
   "source": [
    "df = df = pd.read_csv('final_scout_not_dummy.csv')"
   ]
  },
  {
   "cell_type": "code",
   "execution_count": 3,
   "metadata": {},
   "outputs": [
    {
     "data": {
      "text/html": [
       "<div>\n",
       "<style scoped>\n",
       "    .dataframe tbody tr th:only-of-type {\n",
       "        vertical-align: middle;\n",
       "    }\n",
       "\n",
       "    .dataframe tbody tr th {\n",
       "        vertical-align: top;\n",
       "    }\n",
       "\n",
       "    .dataframe thead th {\n",
       "        text-align: right;\n",
       "    }\n",
       "</style>\n",
       "<table border=\"1\" class=\"dataframe\">\n",
       "  <thead>\n",
       "    <tr style=\"text-align: right;\">\n",
       "      <th></th>\n",
       "      <th>make_model</th>\n",
       "      <th>body_type</th>\n",
       "      <th>price</th>\n",
       "      <th>vat</th>\n",
       "      <th>km</th>\n",
       "      <th>Type</th>\n",
       "      <th>Fuel</th>\n",
       "      <th>Gears</th>\n",
       "      <th>Comfort_Convenience</th>\n",
       "      <th>Entertainment_Media</th>\n",
       "      <th>Extras</th>\n",
       "      <th>Safety_Security</th>\n",
       "      <th>age</th>\n",
       "      <th>Previous_Owners</th>\n",
       "      <th>hp_kW</th>\n",
       "      <th>Inspection_new</th>\n",
       "      <th>Paint_Type</th>\n",
       "      <th>Upholstery_type</th>\n",
       "      <th>Gearing_Type</th>\n",
       "      <th>Displacement_cc</th>\n",
       "      <th>Weight_kg</th>\n",
       "      <th>Drive_chain</th>\n",
       "      <th>cons_comb</th>\n",
       "    </tr>\n",
       "  </thead>\n",
       "  <tbody>\n",
       "    <tr>\n",
       "      <th>0</th>\n",
       "      <td>Audi A1</td>\n",
       "      <td>Sedans</td>\n",
       "      <td>15770</td>\n",
       "      <td>VAT deductible</td>\n",
       "      <td>56013.0</td>\n",
       "      <td>Used</td>\n",
       "      <td>Diesel</td>\n",
       "      <td>7.0</td>\n",
       "      <td>Air conditioning,Armrest,Automatic climate con...</td>\n",
       "      <td>Bluetooth,Hands-free equipment,On-board comput...</td>\n",
       "      <td>Alloy wheels,Catalytic Converter,Voice Control</td>\n",
       "      <td>ABS,Central door lock,Daytime running lights,D...</td>\n",
       "      <td>3.0</td>\n",
       "      <td>2.0</td>\n",
       "      <td>66.0</td>\n",
       "      <td>1</td>\n",
       "      <td>Metallic</td>\n",
       "      <td>Cloth</td>\n",
       "      <td>Automatic</td>\n",
       "      <td>1422.0</td>\n",
       "      <td>1220.0</td>\n",
       "      <td>front</td>\n",
       "      <td>3.8</td>\n",
       "    </tr>\n",
       "    <tr>\n",
       "      <th>1</th>\n",
       "      <td>Audi A1</td>\n",
       "      <td>Sedans</td>\n",
       "      <td>14500</td>\n",
       "      <td>Price negotiable</td>\n",
       "      <td>80000.0</td>\n",
       "      <td>Used</td>\n",
       "      <td>Benzine</td>\n",
       "      <td>7.0</td>\n",
       "      <td>Air conditioning,Automatic climate control,Hil...</td>\n",
       "      <td>Bluetooth,Hands-free equipment,On-board comput...</td>\n",
       "      <td>Alloy wheels,Sport seats,Sport suspension,Voic...</td>\n",
       "      <td>ABS,Central door lock,Central door lock with r...</td>\n",
       "      <td>2.0</td>\n",
       "      <td>1.0</td>\n",
       "      <td>141.0</td>\n",
       "      <td>0</td>\n",
       "      <td>Metallic</td>\n",
       "      <td>Cloth</td>\n",
       "      <td>Automatic</td>\n",
       "      <td>1798.0</td>\n",
       "      <td>1255.0</td>\n",
       "      <td>front</td>\n",
       "      <td>5.6</td>\n",
       "    </tr>\n",
       "    <tr>\n",
       "      <th>2</th>\n",
       "      <td>Audi A1</td>\n",
       "      <td>Sedans</td>\n",
       "      <td>14640</td>\n",
       "      <td>VAT deductible</td>\n",
       "      <td>83450.0</td>\n",
       "      <td>Used</td>\n",
       "      <td>Diesel</td>\n",
       "      <td>7.0</td>\n",
       "      <td>Air conditioning,Cruise control,Electrical sid...</td>\n",
       "      <td>MP3,On-board computer</td>\n",
       "      <td>Alloy wheels,Voice Control</td>\n",
       "      <td>ABS,Central door lock,Daytime running lights,D...</td>\n",
       "      <td>3.0</td>\n",
       "      <td>1.0</td>\n",
       "      <td>85.0</td>\n",
       "      <td>0</td>\n",
       "      <td>Metallic</td>\n",
       "      <td>Cloth</td>\n",
       "      <td>Automatic</td>\n",
       "      <td>1598.0</td>\n",
       "      <td>1135.0</td>\n",
       "      <td>front</td>\n",
       "      <td>3.8</td>\n",
       "    </tr>\n",
       "    <tr>\n",
       "      <th>3</th>\n",
       "      <td>Audi A1</td>\n",
       "      <td>Sedans</td>\n",
       "      <td>14500</td>\n",
       "      <td>VAT deductible</td>\n",
       "      <td>73000.0</td>\n",
       "      <td>Used</td>\n",
       "      <td>Diesel</td>\n",
       "      <td>6.0</td>\n",
       "      <td>Air suspension,Armrest,Auxiliary heating,Elect...</td>\n",
       "      <td>Bluetooth,CD player,Hands-free equipment,MP3,O...</td>\n",
       "      <td>Alloy wheels,Sport seats,Voice Control</td>\n",
       "      <td>ABS,Alarm system,Central door lock with remote...</td>\n",
       "      <td>3.0</td>\n",
       "      <td>1.0</td>\n",
       "      <td>66.0</td>\n",
       "      <td>0</td>\n",
       "      <td>Metallic</td>\n",
       "      <td>Cloth</td>\n",
       "      <td>Automatic</td>\n",
       "      <td>1422.0</td>\n",
       "      <td>1195.0</td>\n",
       "      <td>front</td>\n",
       "      <td>3.8</td>\n",
       "    </tr>\n",
       "    <tr>\n",
       "      <th>4</th>\n",
       "      <td>Audi A1</td>\n",
       "      <td>Sedans</td>\n",
       "      <td>16790</td>\n",
       "      <td>VAT deductible</td>\n",
       "      <td>16200.0</td>\n",
       "      <td>Used</td>\n",
       "      <td>Diesel</td>\n",
       "      <td>7.0</td>\n",
       "      <td>Air conditioning,Armrest,Automatic climate con...</td>\n",
       "      <td>Bluetooth,CD player,Hands-free equipment,MP3,O...</td>\n",
       "      <td>Alloy wheels,Sport package,Sport suspension,Vo...</td>\n",
       "      <td>ABS,Central door lock,Driver-side airbag,Elect...</td>\n",
       "      <td>3.0</td>\n",
       "      <td>1.0</td>\n",
       "      <td>66.0</td>\n",
       "      <td>1</td>\n",
       "      <td>Metallic</td>\n",
       "      <td>Cloth</td>\n",
       "      <td>Automatic</td>\n",
       "      <td>1422.0</td>\n",
       "      <td>1135.0</td>\n",
       "      <td>front</td>\n",
       "      <td>4.1</td>\n",
       "    </tr>\n",
       "  </tbody>\n",
       "</table>\n",
       "</div>"
      ],
      "text/plain": [
       "  make_model body_type  price               vat       km  Type     Fuel  \\\n",
       "0    Audi A1    Sedans  15770    VAT deductible  56013.0  Used   Diesel   \n",
       "1    Audi A1    Sedans  14500  Price negotiable  80000.0  Used  Benzine   \n",
       "2    Audi A1    Sedans  14640    VAT deductible  83450.0  Used   Diesel   \n",
       "3    Audi A1    Sedans  14500    VAT deductible  73000.0  Used   Diesel   \n",
       "4    Audi A1    Sedans  16790    VAT deductible  16200.0  Used   Diesel   \n",
       "\n",
       "   Gears                                Comfort_Convenience  \\\n",
       "0    7.0  Air conditioning,Armrest,Automatic climate con...   \n",
       "1    7.0  Air conditioning,Automatic climate control,Hil...   \n",
       "2    7.0  Air conditioning,Cruise control,Electrical sid...   \n",
       "3    6.0  Air suspension,Armrest,Auxiliary heating,Elect...   \n",
       "4    7.0  Air conditioning,Armrest,Automatic climate con...   \n",
       "\n",
       "                                 Entertainment_Media  \\\n",
       "0  Bluetooth,Hands-free equipment,On-board comput...   \n",
       "1  Bluetooth,Hands-free equipment,On-board comput...   \n",
       "2                              MP3,On-board computer   \n",
       "3  Bluetooth,CD player,Hands-free equipment,MP3,O...   \n",
       "4  Bluetooth,CD player,Hands-free equipment,MP3,O...   \n",
       "\n",
       "                                              Extras  \\\n",
       "0     Alloy wheels,Catalytic Converter,Voice Control   \n",
       "1  Alloy wheels,Sport seats,Sport suspension,Voic...   \n",
       "2                         Alloy wheels,Voice Control   \n",
       "3             Alloy wheels,Sport seats,Voice Control   \n",
       "4  Alloy wheels,Sport package,Sport suspension,Vo...   \n",
       "\n",
       "                                     Safety_Security  age  Previous_Owners  \\\n",
       "0  ABS,Central door lock,Daytime running lights,D...  3.0              2.0   \n",
       "1  ABS,Central door lock,Central door lock with r...  2.0              1.0   \n",
       "2  ABS,Central door lock,Daytime running lights,D...  3.0              1.0   \n",
       "3  ABS,Alarm system,Central door lock with remote...  3.0              1.0   \n",
       "4  ABS,Central door lock,Driver-side airbag,Elect...  3.0              1.0   \n",
       "\n",
       "   hp_kW  Inspection_new Paint_Type Upholstery_type Gearing_Type  \\\n",
       "0   66.0               1   Metallic           Cloth    Automatic   \n",
       "1  141.0               0   Metallic           Cloth    Automatic   \n",
       "2   85.0               0   Metallic           Cloth    Automatic   \n",
       "3   66.0               0   Metallic           Cloth    Automatic   \n",
       "4   66.0               1   Metallic           Cloth    Automatic   \n",
       "\n",
       "   Displacement_cc  Weight_kg Drive_chain  cons_comb  \n",
       "0           1422.0     1220.0       front        3.8  \n",
       "1           1798.0     1255.0       front        5.6  \n",
       "2           1598.0     1135.0       front        3.8  \n",
       "3           1422.0     1195.0       front        3.8  \n",
       "4           1422.0     1135.0       front        4.1  "
      ]
     },
     "execution_count": 3,
     "metadata": {},
     "output_type": "execute_result"
    }
   ],
   "source": [
    "df.head()"
   ]
  },
  {
   "cell_type": "code",
   "execution_count": 4,
   "metadata": {},
   "outputs": [
    {
     "data": {
      "text/plain": [
       "(15915, 23)"
      ]
     },
     "execution_count": 4,
     "metadata": {},
     "output_type": "execute_result"
    }
   ],
   "source": [
    "df.shape"
   ]
  },
  {
   "cell_type": "code",
   "execution_count": 5,
   "metadata": {},
   "outputs": [
    {
     "name": "stdout",
     "output_type": "stream",
     "text": [
      "<class 'pandas.core.frame.DataFrame'>\n",
      "RangeIndex: 15915 entries, 0 to 15914\n",
      "Data columns (total 23 columns):\n",
      " #   Column               Non-Null Count  Dtype  \n",
      "---  ------               --------------  -----  \n",
      " 0   make_model           15915 non-null  object \n",
      " 1   body_type            15915 non-null  object \n",
      " 2   price                15915 non-null  int64  \n",
      " 3   vat                  15915 non-null  object \n",
      " 4   km                   15915 non-null  float64\n",
      " 5   Type                 15915 non-null  object \n",
      " 6   Fuel                 15915 non-null  object \n",
      " 7   Gears                15915 non-null  float64\n",
      " 8   Comfort_Convenience  15915 non-null  object \n",
      " 9   Entertainment_Media  15915 non-null  object \n",
      " 10  Extras               15915 non-null  object \n",
      " 11  Safety_Security      15915 non-null  object \n",
      " 12  age                  15915 non-null  float64\n",
      " 13  Previous_Owners      15915 non-null  float64\n",
      " 14  hp_kW                15915 non-null  float64\n",
      " 15  Inspection_new       15915 non-null  int64  \n",
      " 16  Paint_Type           15915 non-null  object \n",
      " 17  Upholstery_type      15915 non-null  object \n",
      " 18  Gearing_Type         15915 non-null  object \n",
      " 19  Displacement_cc      15915 non-null  float64\n",
      " 20  Weight_kg            15915 non-null  float64\n",
      " 21  Drive_chain          15915 non-null  object \n",
      " 22  cons_comb            15915 non-null  float64\n",
      "dtypes: float64(8), int64(2), object(13)\n",
      "memory usage: 2.8+ MB\n"
     ]
    }
   ],
   "source": [
    "df.info()"
   ]
  },
  {
   "cell_type": "code",
   "execution_count": 6,
   "metadata": {},
   "outputs": [
    {
     "data": {
      "text/plain": [
       "make_model             0\n",
       "body_type              0\n",
       "price                  0\n",
       "vat                    0\n",
       "km                     0\n",
       "Type                   0\n",
       "Fuel                   0\n",
       "Gears                  0\n",
       "Comfort_Convenience    0\n",
       "Entertainment_Media    0\n",
       "Extras                 0\n",
       "Safety_Security        0\n",
       "age                    0\n",
       "Previous_Owners        0\n",
       "hp_kW                  0\n",
       "Inspection_new         0\n",
       "Paint_Type             0\n",
       "Upholstery_type        0\n",
       "Gearing_Type           0\n",
       "Displacement_cc        0\n",
       "Weight_kg              0\n",
       "Drive_chain            0\n",
       "cons_comb              0\n",
       "dtype: int64"
      ]
     },
     "execution_count": 6,
     "metadata": {},
     "output_type": "execute_result"
    }
   ],
   "source": [
    "df.isnull().sum()"
   ]
  },
  {
   "cell_type": "code",
   "execution_count": 7,
   "metadata": {},
   "outputs": [
    {
     "data": {
      "text/html": [
       "<div>\n",
       "<style scoped>\n",
       "    .dataframe tbody tr th:only-of-type {\n",
       "        vertical-align: middle;\n",
       "    }\n",
       "\n",
       "    .dataframe tbody tr th {\n",
       "        vertical-align: top;\n",
       "    }\n",
       "\n",
       "    .dataframe thead th {\n",
       "        text-align: right;\n",
       "    }\n",
       "</style>\n",
       "<table border=\"1\" class=\"dataframe\">\n",
       "  <thead>\n",
       "    <tr style=\"text-align: right;\">\n",
       "      <th></th>\n",
       "      <th>count</th>\n",
       "      <th>mean</th>\n",
       "      <th>std</th>\n",
       "      <th>min</th>\n",
       "      <th>25%</th>\n",
       "      <th>50%</th>\n",
       "      <th>75%</th>\n",
       "      <th>max</th>\n",
       "    </tr>\n",
       "  </thead>\n",
       "  <tbody>\n",
       "    <tr>\n",
       "      <th>price</th>\n",
       "      <td>15915.0</td>\n",
       "      <td>18024.380584</td>\n",
       "      <td>7381.679318</td>\n",
       "      <td>4950.0</td>\n",
       "      <td>12850.0</td>\n",
       "      <td>16900.0</td>\n",
       "      <td>21900.0</td>\n",
       "      <td>74600.0</td>\n",
       "    </tr>\n",
       "    <tr>\n",
       "      <th>km</th>\n",
       "      <td>15915.0</td>\n",
       "      <td>32089.995708</td>\n",
       "      <td>36977.214964</td>\n",
       "      <td>0.0</td>\n",
       "      <td>1920.5</td>\n",
       "      <td>20413.0</td>\n",
       "      <td>46900.0</td>\n",
       "      <td>317000.0</td>\n",
       "    </tr>\n",
       "    <tr>\n",
       "      <th>Gears</th>\n",
       "      <td>15915.0</td>\n",
       "      <td>5.937355</td>\n",
       "      <td>0.704772</td>\n",
       "      <td>5.0</td>\n",
       "      <td>5.0</td>\n",
       "      <td>6.0</td>\n",
       "      <td>6.0</td>\n",
       "      <td>8.0</td>\n",
       "    </tr>\n",
       "    <tr>\n",
       "      <th>age</th>\n",
       "      <td>15915.0</td>\n",
       "      <td>1.389695</td>\n",
       "      <td>1.121306</td>\n",
       "      <td>0.0</td>\n",
       "      <td>0.0</td>\n",
       "      <td>1.0</td>\n",
       "      <td>2.0</td>\n",
       "      <td>3.0</td>\n",
       "    </tr>\n",
       "    <tr>\n",
       "      <th>Previous_Owners</th>\n",
       "      <td>15915.0</td>\n",
       "      <td>1.042853</td>\n",
       "      <td>0.339178</td>\n",
       "      <td>0.0</td>\n",
       "      <td>1.0</td>\n",
       "      <td>1.0</td>\n",
       "      <td>1.0</td>\n",
       "      <td>4.0</td>\n",
       "    </tr>\n",
       "    <tr>\n",
       "      <th>hp_kW</th>\n",
       "      <td>15915.0</td>\n",
       "      <td>88.499340</td>\n",
       "      <td>26.674341</td>\n",
       "      <td>40.0</td>\n",
       "      <td>66.0</td>\n",
       "      <td>85.0</td>\n",
       "      <td>103.0</td>\n",
       "      <td>294.0</td>\n",
       "    </tr>\n",
       "    <tr>\n",
       "      <th>Inspection_new</th>\n",
       "      <td>15915.0</td>\n",
       "      <td>0.247063</td>\n",
       "      <td>0.431317</td>\n",
       "      <td>0.0</td>\n",
       "      <td>0.0</td>\n",
       "      <td>0.0</td>\n",
       "      <td>0.0</td>\n",
       "      <td>1.0</td>\n",
       "    </tr>\n",
       "    <tr>\n",
       "      <th>Displacement_cc</th>\n",
       "      <td>15915.0</td>\n",
       "      <td>1428.661891</td>\n",
       "      <td>275.804272</td>\n",
       "      <td>890.0</td>\n",
       "      <td>1229.0</td>\n",
       "      <td>1461.0</td>\n",
       "      <td>1598.0</td>\n",
       "      <td>2967.0</td>\n",
       "    </tr>\n",
       "    <tr>\n",
       "      <th>Weight_kg</th>\n",
       "      <td>15915.0</td>\n",
       "      <td>1337.700534</td>\n",
       "      <td>199.682385</td>\n",
       "      <td>840.0</td>\n",
       "      <td>1165.0</td>\n",
       "      <td>1295.0</td>\n",
       "      <td>1472.0</td>\n",
       "      <td>2471.0</td>\n",
       "    </tr>\n",
       "    <tr>\n",
       "      <th>cons_comb</th>\n",
       "      <td>15915.0</td>\n",
       "      <td>4.832124</td>\n",
       "      <td>0.867530</td>\n",
       "      <td>3.0</td>\n",
       "      <td>4.1</td>\n",
       "      <td>4.8</td>\n",
       "      <td>5.4</td>\n",
       "      <td>9.1</td>\n",
       "    </tr>\n",
       "  </tbody>\n",
       "</table>\n",
       "</div>"
      ],
      "text/plain": [
       "                   count          mean           std     min      25%  \\\n",
       "price            15915.0  18024.380584   7381.679318  4950.0  12850.0   \n",
       "km               15915.0  32089.995708  36977.214964     0.0   1920.5   \n",
       "Gears            15915.0      5.937355      0.704772     5.0      5.0   \n",
       "age              15915.0      1.389695      1.121306     0.0      0.0   \n",
       "Previous_Owners  15915.0      1.042853      0.339178     0.0      1.0   \n",
       "hp_kW            15915.0     88.499340     26.674341    40.0     66.0   \n",
       "Inspection_new   15915.0      0.247063      0.431317     0.0      0.0   \n",
       "Displacement_cc  15915.0   1428.661891    275.804272   890.0   1229.0   \n",
       "Weight_kg        15915.0   1337.700534    199.682385   840.0   1165.0   \n",
       "cons_comb        15915.0      4.832124      0.867530     3.0      4.1   \n",
       "\n",
       "                     50%      75%       max  \n",
       "price            16900.0  21900.0   74600.0  \n",
       "km               20413.0  46900.0  317000.0  \n",
       "Gears                6.0      6.0       8.0  \n",
       "age                  1.0      2.0       3.0  \n",
       "Previous_Owners      1.0      1.0       4.0  \n",
       "hp_kW               85.0    103.0     294.0  \n",
       "Inspection_new       0.0      0.0       1.0  \n",
       "Displacement_cc   1461.0   1598.0    2967.0  \n",
       "Weight_kg         1295.0   1472.0    2471.0  \n",
       "cons_comb            4.8      5.4       9.1  "
      ]
     },
     "execution_count": 7,
     "metadata": {},
     "output_type": "execute_result"
    }
   ],
   "source": [
    "df.describe().T"
   ]
  },
  {
   "cell_type": "code",
   "execution_count": 8,
   "metadata": {},
   "outputs": [],
   "source": [
    "new_list=[\"age\", \"hp_kW\", \"km\", \"Gearing_Type\", 'make_model', 'price']"
   ]
  },
  {
   "cell_type": "code",
   "execution_count": 9,
   "metadata": {},
   "outputs": [],
   "source": [
    "# Assigning the selected features to df\n",
    "df = df[new_list]"
   ]
  },
  {
   "cell_type": "code",
   "execution_count": 10,
   "metadata": {},
   "outputs": [
    {
     "data": {
      "text/plain": [
       "Gearing_Type\n",
       "Manual            8149\n",
       "Automatic         7297\n",
       "Semi-automatic     469\n",
       "Name: count, dtype: int64"
      ]
     },
     "execution_count": 10,
     "metadata": {},
     "output_type": "execute_result"
    }
   ],
   "source": [
    "df[\"Gearing_Type\"].value_counts()"
   ]
  },
  {
   "cell_type": "code",
   "execution_count": 11,
   "metadata": {},
   "outputs": [
    {
     "data": {
      "text/plain": [
       "make_model\n",
       "Audi A3           3097\n",
       "Audi A1           2614\n",
       "Opel Insignia     2598\n",
       "Opel Astra        2525\n",
       "Opel Corsa        2216\n",
       "Renault Clio      1839\n",
       "Renault Espace     991\n",
       "Renault Duster      34\n",
       "Audi A2              1\n",
       "Name: count, dtype: int64"
      ]
     },
     "execution_count": 11,
     "metadata": {},
     "output_type": "execute_result"
    }
   ],
   "source": [
    "df[\"make_model\"].value_counts()"
   ]
  },
  {
   "cell_type": "code",
   "execution_count": 12,
   "metadata": {},
   "outputs": [
    {
     "data": {
      "text/html": [
       "<div>\n",
       "<style scoped>\n",
       "    .dataframe tbody tr th:only-of-type {\n",
       "        vertical-align: middle;\n",
       "    }\n",
       "\n",
       "    .dataframe tbody tr th {\n",
       "        vertical-align: top;\n",
       "    }\n",
       "\n",
       "    .dataframe thead th {\n",
       "        text-align: right;\n",
       "    }\n",
       "</style>\n",
       "<table border=\"1\" class=\"dataframe\">\n",
       "  <thead>\n",
       "    <tr style=\"text-align: right;\">\n",
       "      <th></th>\n",
       "      <th>age</th>\n",
       "      <th>hp_kW</th>\n",
       "      <th>km</th>\n",
       "      <th>price</th>\n",
       "    </tr>\n",
       "  </thead>\n",
       "  <tbody>\n",
       "    <tr>\n",
       "      <th>age</th>\n",
       "      <td>1.000000</td>\n",
       "      <td>-0.083254</td>\n",
       "      <td>0.758306</td>\n",
       "      <td>-0.473478</td>\n",
       "    </tr>\n",
       "    <tr>\n",
       "      <th>hp_kW</th>\n",
       "      <td>-0.083254</td>\n",
       "      <td>1.000000</td>\n",
       "      <td>0.004217</td>\n",
       "      <td>0.696411</td>\n",
       "    </tr>\n",
       "    <tr>\n",
       "      <th>km</th>\n",
       "      <td>0.758306</td>\n",
       "      <td>0.004217</td>\n",
       "      <td>1.000000</td>\n",
       "      <td>-0.399291</td>\n",
       "    </tr>\n",
       "    <tr>\n",
       "      <th>price</th>\n",
       "      <td>-0.473478</td>\n",
       "      <td>0.696411</td>\n",
       "      <td>-0.399291</td>\n",
       "      <td>1.000000</td>\n",
       "    </tr>\n",
       "  </tbody>\n",
       "</table>\n",
       "</div>"
      ],
      "text/plain": [
       "            age     hp_kW        km     price\n",
       "age    1.000000 -0.083254  0.758306 -0.473478\n",
       "hp_kW -0.083254  1.000000  0.004217  0.696411\n",
       "km     0.758306  0.004217  1.000000 -0.399291\n",
       "price -0.473478  0.696411 -0.399291  1.000000"
      ]
     },
     "execution_count": 12,
     "metadata": {},
     "output_type": "execute_result"
    }
   ],
   "source": [
    "df.corr(numeric_only=True)"
   ]
  },
  {
   "cell_type": "code",
   "execution_count": 13,
   "metadata": {},
   "outputs": [
    {
     "data": {
      "text/plain": [
       "<Axes: >"
      ]
     },
     "execution_count": 13,
     "metadata": {},
     "output_type": "execute_result"
    },
    {
     "data": {
      "image/png": "[encoded data removed]",
      "text/plain": [
       "<Figure size 700x400 with 2 Axes>"
      ]
     },
     "metadata": {},
     "output_type": "display_data"
    }
   ],
   "source": [
    "sns.heatmap(df.corr(numeric_only=True), vmin=-1, vmax=1, annot =True, cmap=\"coolwarm\")"
   ]
  },
  {
   "cell_type": "code",
   "execution_count": 14,
   "metadata": {},
   "outputs": [
    {
     "data": {
      "text/plain": [
       "<Axes: xlabel='age', ylabel='price'>"
      ]
     },
     "execution_count": 14,
     "metadata": {},
     "output_type": "execute_result"
    },
    {
     "data": {
      "image/png": "[encoded data removed]",
      "text/plain": [
       "<Figure size 700x400 with 1 Axes>"
      ]
     },
     "metadata": {},
     "output_type": "display_data"
    }
   ],
   "source": [
    "sns.boxplot(x = \"age\", y=\"price\", data=df)"
   ]
  },
  {
   "cell_type": "code",
   "execution_count": 15,
   "metadata": {},
   "outputs": [],
   "source": [
    "# Splitting the data into features (X) and target variable (y)\n",
    "X = df.drop('price', axis=1)\n",
    "y = df['price']"
   ]
  },
  {
   "cell_type": "code",
   "execution_count": 16,
   "metadata": {},
   "outputs": [],
   "source": [
    "from sklearn.preprocessing import OrdinalEncoder\n",
    "enc = OrdinalEncoder()"
   ]
  },
  {
   "cell_type": "code",
   "execution_count": 17,
   "metadata": {},
   "outputs": [
    {
     "data": {
      "text/html": [
       "<style>#sk-container-id-1 {color: black;background-color: white;}#sk-container-id-1 pre{padding: 0;}#sk-container-id-1 div.sk-toggleable {background-color: white;}#sk-container-id-1 label.sk-toggleable__label {cursor: pointer;display: block;width: 100%;margin-bottom: 0;padding: 0.3em;box-sizing: border-box;text-align: center;}#sk-container-id-1 label.sk-toggleable__label-arrow:before {content: \"▸\";float: left;margin-right: 0.25em;color: #696969;}#sk-container-id-1 label.sk-toggleable__label-arrow:hover:before {color: black;}#sk-container-id-1 div.sk-estimator:hover label.sk-toggleable__label-arrow:before {color: black;}#sk-container-id-1 div.sk-toggleable__content {max-height: 0;max-width: 0;overflow: hidden;text-align: left;background-color: #f0f8ff;}#sk-container-id-1 div.sk-toggleable__content pre {margin: 0.2em;color: black;border-radius: 0.25em;background-color: #f0f8ff;}#sk-container-id-1 input.sk-toggleable__control:checked~div.sk-toggleable__content {max-height: 200px;max-width: 100%;overflow: auto;}#sk-container-id-1 input.sk-toggleable__control:checked~label.sk-toggleable__label-arrow:before {content: \"▾\";}#sk-container-id-1 div.sk-estimator input.sk-toggleable__control:checked~label.sk-toggleable__label {background-color: #d4ebff;}#sk-container-id-1 div.sk-label input.sk-toggleable__control:checked~label.sk-toggleable__label {background-color: #d4ebff;}#sk-container-id-1 input.sk-hidden--visually {border: 0;clip: rect(1px 1px 1px 1px);clip: rect(1px, 1px, 1px, 1px);height: 1px;margin: -1px;overflow: hidden;padding: 0;position: absolute;width: 1px;}#sk-container-id-1 div.sk-estimator {font-family: monospace;background-color: #f0f8ff;border: 1px dotted black;border-radius: 0.25em;box-sizing: border-box;margin-bottom: 0.5em;}#sk-container-id-1 div.sk-estimator:hover {background-color: #d4ebff;}#sk-container-id-1 div.sk-parallel-item::after {content: \"\";width: 100%;border-bottom: 1px solid gray;flex-grow: 1;}#sk-container-id-1 div.sk-label:hover label.sk-toggleable__label {background-color: #d4ebff;}#sk-container-id-1 div.sk-serial::before {content: \"\";position: absolute;border-left: 1px solid gray;box-sizing: border-box;top: 0;bottom: 0;left: 50%;z-index: 0;}#sk-container-id-1 div.sk-serial {display: flex;flex-direction: column;align-items: center;background-color: white;padding-right: 0.2em;padding-left: 0.2em;position: relative;}#sk-container-id-1 div.sk-item {position: relative;z-index: 1;}#sk-container-id-1 div.sk-parallel {display: flex;align-items: stretch;justify-content: center;background-color: white;position: relative;}#sk-container-id-1 div.sk-item::before, #sk-container-id-1 div.sk-parallel-item::before {content: \"\";position: absolute;border-left: 1px solid gray;box-sizing: border-box;top: 0;bottom: 0;left: 50%;z-index: -1;}#sk-container-id-1 div.sk-parallel-item {display: flex;flex-direction: column;z-index: 1;position: relative;background-color: white;}#sk-container-id-1 div.sk-parallel-item:first-child::after {align-self: flex-end;width: 50%;}#sk-container-id-1 div.sk-parallel-item:last-child::after {align-self: flex-start;width: 50%;}#sk-container-id-1 div.sk-parallel-item:only-child::after {width: 0;}#sk-container-id-1 div.sk-dashed-wrapped {border: 1px dashed gray;margin: 0 0.4em 0.5em 0.4em;box-sizing: border-box;padding-bottom: 0.4em;background-color: white;}#sk-container-id-1 div.sk-label label {font-family: monospace;font-weight: bold;display: inline-block;line-height: 1.2em;}#sk-container-id-1 div.sk-label-container {text-align: center;}#sk-container-id-1 div.sk-container {/* jupyter's `normalize.less` sets `[hidden] { display: none; }` but bootstrap.min.css set `[hidden] { display: none !important; }` so we also need the `!important` here to be able to override the default hidden behavior on the sphinx rendered scikit-learn.org. See: https://github.com/scikit-learn/scikit-learn/issues/21755 */display: inline-block !important;position: relative;}#sk-container-id-1 div.sk-text-repr-fallback {display: none;}</style><div id=\"sk-container-id-1\" class=\"sk-top-container\"><div class=\"sk-text-repr-fallback\"><pre>OrdinalEncoder()</pre><b>In a Jupyter environment, please rerun this cell to show the HTML representation or trust the notebook. <br />On GitHub, the HTML representation is unable to render, please try loading this page with nbviewer.org.</b></div><div class=\"sk-container\" hidden><div class=\"sk-item\"><div class=\"sk-estimator sk-toggleable\"><input class=\"sk-toggleable__control sk-hidden--visually\" id=\"sk-estimator-id-1\" type=\"checkbox\" checked><label for=\"sk-estimator-id-1\" class=\"sk-toggleable__label sk-toggleable__label-arrow\">OrdinalEncoder</label><div class=\"sk-toggleable__content\"><pre>OrdinalEncoder()</pre></div></div></div></div></div>"
      ],
      "text/plain": [
       "OrdinalEncoder()"
      ]
     },
     "execution_count": 17,
     "metadata": {},
     "output_type": "execute_result"
    }
   ],
   "source": [
    "enc.fit(X)"
   ]
  },
  {
   "cell_type": "code",
   "execution_count": 18,
   "metadata": {},
   "outputs": [
    {
     "data": {
      "text/html": [
       "<div>\n",
       "<style scoped>\n",
       "    .dataframe tbody tr th:only-of-type {\n",
       "        vertical-align: middle;\n",
       "    }\n",
       "\n",
       "    .dataframe tbody tr th {\n",
       "        vertical-align: top;\n",
       "    }\n",
       "\n",
       "    .dataframe thead th {\n",
       "        text-align: right;\n",
       "    }\n",
       "</style>\n",
       "<table border=\"1\" class=\"dataframe\">\n",
       "  <thead>\n",
       "    <tr style=\"text-align: right;\">\n",
       "      <th></th>\n",
       "      <th>age</th>\n",
       "      <th>hp_kW</th>\n",
       "      <th>km</th>\n",
       "      <th>Gearing_Type</th>\n",
       "      <th>make_model</th>\n",
       "    </tr>\n",
       "  </thead>\n",
       "  <tbody>\n",
       "    <tr>\n",
       "      <th>0</th>\n",
       "      <td>3.0</td>\n",
       "      <td>66.0</td>\n",
       "      <td>56013.0</td>\n",
       "      <td>Automatic</td>\n",
       "      <td>Audi A1</td>\n",
       "    </tr>\n",
       "    <tr>\n",
       "      <th>1</th>\n",
       "      <td>2.0</td>\n",
       "      <td>141.0</td>\n",
       "      <td>80000.0</td>\n",
       "      <td>Automatic</td>\n",
       "      <td>Audi A1</td>\n",
       "    </tr>\n",
       "    <tr>\n",
       "      <th>2</th>\n",
       "      <td>3.0</td>\n",
       "      <td>85.0</td>\n",
       "      <td>83450.0</td>\n",
       "      <td>Automatic</td>\n",
       "      <td>Audi A1</td>\n",
       "    </tr>\n",
       "    <tr>\n",
       "      <th>3</th>\n",
       "      <td>3.0</td>\n",
       "      <td>66.0</td>\n",
       "      <td>73000.0</td>\n",
       "      <td>Automatic</td>\n",
       "      <td>Audi A1</td>\n",
       "    </tr>\n",
       "    <tr>\n",
       "      <th>4</th>\n",
       "      <td>3.0</td>\n",
       "      <td>66.0</td>\n",
       "      <td>16200.0</td>\n",
       "      <td>Automatic</td>\n",
       "      <td>Audi A1</td>\n",
       "    </tr>\n",
       "  </tbody>\n",
       "</table>\n",
       "</div>"
      ],
      "text/plain": [
       "   age  hp_kW       km Gearing_Type make_model\n",
       "0  3.0   66.0  56013.0    Automatic    Audi A1\n",
       "1  2.0  141.0  80000.0    Automatic    Audi A1\n",
       "2  3.0   85.0  83450.0    Automatic    Audi A1\n",
       "3  3.0   66.0  73000.0    Automatic    Audi A1\n",
       "4  3.0   66.0  16200.0    Automatic    Audi A1"
      ]
     },
     "execution_count": 18,
     "metadata": {},
     "output_type": "execute_result"
    }
   ],
   "source": [
    "X.head()"
   ]
  },
  {
   "cell_type": "code",
   "execution_count": 19,
   "metadata": {},
   "outputs": [
    {
     "data": {
      "text/plain": [
       "array([[0., 0.],\n",
       "       [0., 0.],\n",
       "       [0., 0.],\n",
       "       ...,\n",
       "       [0., 8.],\n",
       "       [0., 8.],\n",
       "       [0., 8.]])"
      ]
     },
     "execution_count": 19,
     "metadata": {},
     "output_type": "execute_result"
    }
   ],
   "source": [
    "ordinal = X[[\"Gearing_Type\",\"make_model\"]] = enc.fit_transform(X[[\"Gearing_Type\",\"make_model\"]])\n",
    "ordinal"
   ]
  },
  {
   "cell_type": "code",
   "execution_count": 20,
   "metadata": {},
   "outputs": [
    {
     "data": {
      "text/plain": [
       "Gearing_Type\n",
       "1.0    8149\n",
       "0.0    7297\n",
       "2.0     469\n",
       "Name: count, dtype: int64"
      ]
     },
     "execution_count": 20,
     "metadata": {},
     "output_type": "execute_result"
    }
   ],
   "source": [
    "X[\"Gearing_Type\"].value_counts()"
   ]
  },
  {
   "cell_type": "code",
   "execution_count": 21,
   "metadata": {},
   "outputs": [
    {
     "data": {
      "text/plain": [
       "make_model\n",
       "2.0    3097\n",
       "0.0    2614\n",
       "5.0    2598\n",
       "3.0    2525\n",
       "4.0    2216\n",
       "6.0    1839\n",
       "8.0     991\n",
       "7.0      34\n",
       "1.0       1\n",
       "Name: count, dtype: int64"
      ]
     },
     "execution_count": 21,
     "metadata": {},
     "output_type": "execute_result"
    }
   ],
   "source": [
    "X[\"make_model\"].value_counts()"
   ]
  },
  {
   "cell_type": "code",
   "execution_count": 22,
   "metadata": {},
   "outputs": [],
   "source": [
    "from sklearn.model_selection import train_test_split\n",
    "\n",
    "X_train, X_test, y_train, y_test = train_test_split(X, y, test_size=0.2, random_state=42)"
   ]
  },
  {
   "cell_type": "code",
   "execution_count": 23,
   "metadata": {},
   "outputs": [
    {
     "name": "stdout",
     "output_type": "stream",
     "text": [
      "Train set: (12732, 5) (12732,)\n",
      "Test set: (3183, 5) (3183,)\n"
     ]
    }
   ],
   "source": [
    "# Displaying the shapes of the resulting sets\n",
    "print(\"Train set:\", X_train.shape, y_train.shape)\n",
    "print(\"Test set:\", X_test.shape, y_test.shape)"
   ]
  },
  {
   "cell_type": "code",
   "execution_count": 24,
   "metadata": {},
   "outputs": [
    {
     "name": "stdout",
     "output_type": "stream",
     "text": [
      "Best Hyperparameters: {'n_estimators': 300, 'min_samples_split': 5, 'min_samples_leaf': 1, 'max_depth': 20}\n"
     ]
    }
   ],
   "source": [
    "from sklearn.model_selection import RandomizedSearchCV\n",
    "from sklearn.ensemble import RandomForestRegressor\n",
    "\n",
    "\n",
    "param_dist = {\n",
    "    'n_estimators': [50, 100, 200, 300],\n",
    "    'max_depth': [None, 10, 20, 30],\n",
    "    'min_samples_split': [2, 5, 10, 15],\n",
    "    'min_samples_leaf': [1, 2, 4, 8]\n",
    "}\n",
    "\n",
    "random_search = RandomizedSearchCV(RandomForestRegressor(), param_dist, n_iter=10, cv=5)\n",
    "random_search.fit(X_train, y_train)\n",
    "\n",
    "print(\"Best Hyperparameters:\", random_search.best_params_)"
   ]
  },
  {
   "cell_type": "code",
   "execution_count": 30,
   "metadata": {},
   "outputs": [
    {
     "data": {
      "text/html": [
       "<style>#sk-container-id-3 {color: black;background-color: white;}#sk-container-id-3 pre{padding: 0;}#sk-container-id-3 div.sk-toggleable {background-color: white;}#sk-container-id-3 label.sk-toggleable__label {cursor: pointer;display: block;width: 100%;margin-bottom: 0;padding: 0.3em;box-sizing: border-box;text-align: center;}#sk-container-id-3 label.sk-toggleable__label-arrow:before {content: \"▸\";float: left;margin-right: 0.25em;color: #696969;}#sk-container-id-3 label.sk-toggleable__label-arrow:hover:before {color: black;}#sk-container-id-3 div.sk-estimator:hover label.sk-toggleable__label-arrow:before {color: black;}#sk-container-id-3 div.sk-toggleable__content {max-height: 0;max-width: 0;overflow: hidden;text-align: left;background-color: #f0f8ff;}#sk-container-id-3 div.sk-toggleable__content pre {margin: 0.2em;color: black;border-radius: 0.25em;background-color: #f0f8ff;}#sk-container-id-3 input.sk-toggleable__control:checked~div.sk-toggleable__content {max-height: 200px;max-width: 100%;overflow: auto;}#sk-container-id-3 input.sk-toggleable__control:checked~label.sk-toggleable__label-arrow:before {content: \"▾\";}#sk-container-id-3 div.sk-estimator input.sk-toggleable__control:checked~label.sk-toggleable__label {background-color: #d4ebff;}#sk-container-id-3 div.sk-label input.sk-toggleable__control:checked~label.sk-toggleable__label {background-color: #d4ebff;}#sk-container-id-3 input.sk-hidden--visually {border: 0;clip: rect(1px 1px 1px 1px);clip: rect(1px, 1px, 1px, 1px);height: 1px;margin: -1px;overflow: hidden;padding: 0;position: absolute;width: 1px;}#sk-container-id-3 div.sk-estimator {font-family: monospace;background-color: #f0f8ff;border: 1px dotted black;border-radius: 0.25em;box-sizing: border-box;margin-bottom: 0.5em;}#sk-container-id-3 div.sk-estimator:hover {background-color: #d4ebff;}#sk-container-id-3 div.sk-parallel-item::after {content: \"\";width: 100%;border-bottom: 1px solid gray;flex-grow: 1;}#sk-container-id-3 div.sk-label:hover label.sk-toggleable__label {background-color: #d4ebff;}#sk-container-id-3 div.sk-serial::before {content: \"\";position: absolute;border-left: 1px solid gray;box-sizing: border-box;top: 0;bottom: 0;left: 50%;z-index: 0;}#sk-container-id-3 div.sk-serial {display: flex;flex-direction: column;align-items: center;background-color: white;padding-right: 0.2em;padding-left: 0.2em;position: relative;}#sk-container-id-3 div.sk-item {position: relative;z-index: 1;}#sk-container-id-3 div.sk-parallel {display: flex;align-items: stretch;justify-content: center;background-color: white;position: relative;}#sk-container-id-3 div.sk-item::before, #sk-container-id-3 div.sk-parallel-item::before {content: \"\";position: absolute;border-left: 1px solid gray;box-sizing: border-box;top: 0;bottom: 0;left: 50%;z-index: -1;}#sk-container-id-3 div.sk-parallel-item {display: flex;flex-direction: column;z-index: 1;position: relative;background-color: white;}#sk-container-id-3 div.sk-parallel-item:first-child::after {align-self: flex-end;width: 50%;}#sk-container-id-3 div.sk-parallel-item:last-child::after {align-self: flex-start;width: 50%;}#sk-container-id-3 div.sk-parallel-item:only-child::after {width: 0;}#sk-container-id-3 div.sk-dashed-wrapped {border: 1px dashed gray;margin: 0 0.4em 0.5em 0.4em;box-sizing: border-box;padding-bottom: 0.4em;background-color: white;}#sk-container-id-3 div.sk-label label {font-family: monospace;font-weight: bold;display: inline-block;line-height: 1.2em;}#sk-container-id-3 div.sk-label-container {text-align: center;}#sk-container-id-3 div.sk-container {/* jupyter's `normalize.less` sets `[hidden] { display: none; }` but bootstrap.min.css set `[hidden] { display: none !important; }` so we also need the `!important` here to be able to override the default hidden behavior on the sphinx rendered scikit-learn.org. See: https://github.com/scikit-learn/scikit-learn/issues/21755 */display: inline-block !important;position: relative;}#sk-container-id-3 div.sk-text-repr-fallback {display: none;}</style><div id=\"sk-container-id-3\" class=\"sk-top-container\"><div class=\"sk-text-repr-fallback\"><pre>RandomForestRegressor(max_depth=20, min_samples_split=5, n_estimators=300,\n",
       "                      random_state=101)</pre><b>In a Jupyter environment, please rerun this cell to show the HTML representation or trust the notebook. <br />On GitHub, the HTML representation is unable to render, please try loading this page with nbviewer.org.</b></div><div class=\"sk-container\" hidden><div class=\"sk-item\"><div class=\"sk-estimator sk-toggleable\"><input class=\"sk-toggleable__control sk-hidden--visually\" id=\"sk-estimator-id-3\" type=\"checkbox\" checked><label for=\"sk-estimator-id-3\" class=\"sk-toggleable__label sk-toggleable__label-arrow\">RandomForestRegressor</label><div class=\"sk-toggleable__content\"><pre>RandomForestRegressor(max_depth=20, min_samples_split=5, n_estimators=300,\n",
       "                      random_state=101)</pre></div></div></div></div></div>"
      ],
      "text/plain": [
       "RandomForestRegressor(max_depth=20, min_samples_split=5, n_estimators=300,\n",
       "                      random_state=101)"
      ]
     },
     "execution_count": 30,
     "metadata": {},
     "output_type": "execute_result"
    }
   ],
   "source": [
    "from sklearn.ensemble import RandomForestRegressor\n",
    "\n",
    "rf_model = RandomForestRegressor(n_estimators = 300,\n",
    "                                 min_samples_split = 5,\n",
    "                                 min_samples_leaf = 1,\n",
    "                                 max_depth = 20,\n",
    "                                 random_state=101)\n",
    "rf_model.fit(X_train,y_train)"
   ]
  },
  {
   "cell_type": "code",
   "execution_count": 31,
   "metadata": {},
   "outputs": [],
   "source": [
    "from sklearn.metrics import r2_score, mean_absolute_error, mean_squared_error, mean_absolute_percentage_error\n",
    "\n",
    "def evaluate(model, X_train, y_train, X_test, y_test):\n",
    "    \n",
    "    y_pred = model.predict(X_test)\n",
    "    y_train_pred = model.predict(X_train)\n",
    "    \n",
    "    scores = {\"train\": {\"R2\" : r2_score(y_train, y_train_pred),\n",
    "    \"mae\": mean_absolute_error(y_train, y_train_pred),\n",
    "    \"mse\": mean_squared_error(y_train, y_train_pred, squared=True),                          \n",
    "    \"rmse\": mean_squared_error(y_train, y_train_pred, squared=False),\n",
    "   },\n",
    "    \n",
    "    \"test\": {\"R2\" : r2_score(y_test, y_pred),\n",
    "    \"mae\": mean_absolute_error(y_test, y_pred),\n",
    "    \"mse\": mean_squared_error(y_test, y_pred, squared=True),\n",
    "    \"rmse\": mean_squared_error(y_test, y_pred, squared=False),\n",
    "    }}\n",
    "    \n",
    "    return scores"
   ]
  },
  {
   "cell_type": "code",
   "execution_count": 32,
   "metadata": {},
   "outputs": [
    {
     "data": {
      "text/plain": [
       "{'train': {'R2': 0.9668717906392312,\n",
       "  'mae': 746.5299844240576,\n",
       "  'mse': 1809147.672117054,\n",
       "  'rmse': 1345.0456022444198},\n",
       " 'test': {'R2': 0.9291449068207015,\n",
       "  'mae': 1147.7261935938718,\n",
       "  'mse': 3823877.9452471714,\n",
       "  'rmse': 1955.4738416166992}}"
      ]
     },
     "execution_count": 32,
     "metadata": {},
     "output_type": "execute_result"
    }
   ],
   "source": [
    "evaluate(rf_model, X_train, y_train, X_test, y_test)"
   ]
  },
  {
   "cell_type": "code",
   "execution_count": 33,
   "metadata": {},
   "outputs": [],
   "source": [
    "import pickle"
   ]
  },
  {
   "cell_type": "code",
   "execution_count": 34,
   "metadata": {},
   "outputs": [],
   "source": [
    "pickle.dump(rf_model, open(\"rf_model1\",\"wb\"))\n",
    "pickle.dump(enc, open(\"transformer1\",\"wb\"))"
   ]
  },
  {
   "cell_type": "code",
   "execution_count": null,
   "metadata": {},
   "outputs": [],
   "source": []
  }
 ],
 "metadata": {
  "kernelspec": {
   "display_name": "Python 3 (ipykernel)",
   "language": "python",
   "name": "python3"
  },
  "language_info": {
   "codemirror_mode": {
    "name": "ipython",
    "version": 3
   },
   "file_extension": ".py",
   "mimetype": "text/x-python",
   "name": "python",
   "nbconvert_exporter": "python",
   "pygments_lexer": "ipython3",
   "version": "3.11.5"
  }
 },
 "nbformat": 4,
 "nbformat_minor": 2
}
